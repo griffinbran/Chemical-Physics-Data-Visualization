{
 "cells": [
  {
   "cell_type": "code",
   "execution_count": null,
   "metadata": {},
   "outputs": [
    {
     "name": "stdout",
     "output_type": "stream",
     "text": [
      "Available Data:\n",
      "\n",
      "[0] trial_output05.tsv\n",
      "Data Synopsis:\n",
      "\n",
      "dataset: [0] trial_output05.tsv\n",
      "\tNo. of M1 Steps: 67\n",
      "        \tMin: 9.215[mm]\n",
      "        \tMax: 9.413[mm]\n",
      "        \tStep-Size:  0.003[mm]  =>  ~ 20.0[fs]\n",
      "        \tScan width: 0.198[mm]  =>  ~ 1,340.0[fs]\n",
      "\n",
      "\tNo. of M2 Steps: 58\n",
      "        \tMin: 33.34[mm]\n",
      "        \tMax: 33.511[mm]\n",
      "        \tStep-Size:  0.003[mm]  =>  ~ 20.0[fs]\n",
      "        \tScan Width: 0.171[mm]  =>  ~ 1,160.0[fs]\n",
      "\n",
      "\tNo. of Experimental Scans observed: 12\n",
      "\tComplete scans have at least 3,886 measurements.\n",
      "\n",
      "\tINCOMPLETE scan#: [11]\n",
      "\tCOMPLETE scan#:   [0, 1, 2, 3, 4, 5, 6, 7, 8, 9, 10]\n",
      "\n",
      "\tDAQ Errors:\n",
      "\t\tNone found.\n",
      "\n",
      "Dash is running on http://127.0.0.1:8050/\n",
      "\n",
      " * Serving Flask app 'app' (lazy loading)\n",
      " * Environment: production\n",
      "\u001b[31m   WARNING: This is a development server. Do not use it in a production deployment.\u001b[0m\n",
      "\u001b[2m   Use a production WSGI server instead.\u001b[0m\n",
      " * Debug mode: on\n",
      "\n",
      "update_active_filename\n",
      "ctxt[i=0]['prop_id'] .\n",
      "\n",
      "add_subplot\n",
      "active_f None\n",
      "active_f type <class 'NoneType'>\n",
      "\n",
      "update_components\n",
      "active_f None\n",
      "f 0\n",
      "\n",
      "lineout_options\n",
      "active_f: None\n",
      "active_f type: <class 'NoneType'>\n",
      "\n",
      "\n",
      "render_child_div\n",
      "graph_clicks: 0\n",
      "container style states [{}]\n",
      "\n",
      "toggle_modal\n",
      "ctxt[i=0]['prop_id'] .\n",
      "\n",
      "\n",
      "update_rangeslider\n",
      "active_f: None\n",
      "active_f type: <class 'NoneType'>\n",
      "\n",
      "\n",
      "populate_legend_modal_list\n",
      "ctxt[i=0]['prop_id'] {\"index\":0,\"type\":\"slct_scans\"}.value\n",
      "\n",
      "\n",
      "\n",
      "update_scatter\n",
      "active_f: None\n",
      "active_f type: <class 'NoneType'>\n",
      "\n",
      "update_heatmap\n",
      "active_f: None\n",
      "active_f type: <class 'NoneType'>\n",
      "\n"
     ]
    }
   ],
   "source": [
    "# IMPORTS:\n",
    "from app import app\n",
    "from layouts import layout1\n",
    "import callbacks\n",
    "\n",
    "# Set the layout of the app\n",
    "app.layout = layout1\n",
    "\n",
    "# Entry point for running the app:\n",
    "if __name__ == '__main__':\n",
    "    # Default: visit http://127.0.0.1:8050/ in your web browser.\n",
    "    app.run_server(debug=True, use_reloader=False, host='127.0.0.1', port='8050') \n",
    "\n",
    "    # Run app and display result inline in Jupyter notebook\n",
    "    #app.run_server(mode='inline',debug=False, use_reloader=False, host='127.0.0.1', port='8050')"
   ]
  },
  {
   "cell_type": "code",
   "execution_count": 2,
   "metadata": {},
   "outputs": [
    {
     "name": "stdout",
     "output_type": "stream",
     "text": [
      "pip 21.2.3 from c:\\users\\bgrif\\downloads\\github\\portfolio\\chemical-physics-data-visualization\\venv\\lib\\site-packages\\pip (python 3.9)\n",
      "\n"
     ]
    }
   ],
   "source": [
    "!pip --version"
   ]
  },
  {
   "cell_type": "code",
   "execution_count": 1,
   "metadata": {},
   "outputs": [
    {
     "name": "stdout",
     "output_type": "stream",
     "text": [
      "backcall==0.2.0\n",
      "Brotli==1.0.9\n",
      "click==8.0.1\n",
      "colorama==0.4.4\n",
      "dash==1.21.0\n",
      "dash-bootstrap-components==0.13.0\n",
      "dash-core-components==1.17.1\n",
      "dash-daq==0.5.0\n",
      "dash-html-components==1.1.4\n",
      "dash-table==4.12.0\n",
      "debugpy==1.4.1\n",
      "decorator==5.0.9\n",
      "Flask==2.0.1\n",
      "Flask-Compress==1.10.1\n",
      "future==0.18.2\n",
      "ipykernel==6.0.3\n",
      "ipython==7.26.0\n",
      "ipython-genutils==0.2.0\n",
      "itsdangerous==2.0.1\n",
      "jedi==0.18.0\n",
      "Jinja2==3.0.1\n",
      "jupyter-client==6.1.12\n",
      "jupyter-core==4.7.1\n",
      "MarkupSafe==2.0.1\n",
      "matplotlib-inline==0.1.2\n",
      "numpy==1.21.1\n",
      "pandas==1.3.1\n",
      "parso==0.8.2\n",
      "pickleshare==0.7.5\n",
      "plotly==5.1.0\n",
      "prompt-toolkit==3.0.19\n",
      "Pygments==2.9.0\n",
      "python-dateutil==2.8.2\n",
      "pytz==2021.1\n",
      "pywin32==301\n",
      "pyzmq==22.2.1\n",
      "scipy==1.7.1\n",
      "six==1.16.0\n",
      "tenacity==8.0.1\n",
      "tornado==6.1\n",
      "traitlets==5.0.5\n",
      "wcwidth==0.2.5\n",
      "Werkzeug==2.0.1\n"
     ]
    }
   ],
   "source": [
    "# REFERENCE: https://anbasile.github.io/posts/2017-06-25-jupyter-venv/\n",
    "!pip freeze"
   ]
  },
  {
   "cell_type": "markdown",
   "metadata": {},
   "source": [
    "---"
   ]
  }
 ],
 "metadata": {
  "kernelspec": {
   "display_name": "venv",
   "language": "python",
   "name": "venv"
  },
  "language_info": {
   "codemirror_mode": {
    "name": "ipython",
    "version": 3
   },
   "file_extension": ".py",
   "mimetype": "text/x-python",
   "name": "python",
   "nbconvert_exporter": "python",
   "pygments_lexer": "ipython3",
   "version": "3.9.0"
  }
 },
 "nbformat": 4,
 "nbformat_minor": 4
}
